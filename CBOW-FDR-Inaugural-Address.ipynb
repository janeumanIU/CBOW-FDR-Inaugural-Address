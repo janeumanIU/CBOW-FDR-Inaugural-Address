{
 "cells": [
  {
   "cell_type": "markdown",
   "metadata": {},
   "source": [
    "<h3>Summary</h3>"
   ]
  },
  {
   "cell_type": "markdown",
   "metadata": {},
   "source": [
    "<p>\n",
    "For this project, we will be creating a continuous bag-of-words (CBOW) model to represent and compare the vocabulary of a corpus in terms of word embeddings. We will use these word embeddings to measure the similarity between a sample of words from that vocabulary.\n",
    "</p>\n",
    "\n",
    "<p>\n",
    "The following code will be written in Python 3 with the following dependencies: keras, matplotlib, nltk, scikit-learn, spacy, numpy, and pandas. The text to be used will be Franklin D. Roosevelt's first inaugural address from NLTK's \"Inaugural\" corpus. There are some drawbacks to using a small corpus such as a single speech; these will be apparent in the final results.\n",
    "</p>\n",
    "\n",
    "<p>\n",
    "<b>Preprocessing.</b> NLTK's built-in sent_tokenize and word_tokenize were used to create a 2D list of sentences and their words as individual tokens. After examining the speech, these functions seemed to produce the desired results. A list of punctuation symbols was also determined to exhaust all punctuation that was present upon examination. NLTK's built-in stopwords list was used, as the speech was deemed modern enough for it to capture most relevant tokens. Then, Spacy's WordNet Lemmatizer was used to lemmatize words so declensions would be considered identical to facilitate training on such a small corpus. All words were also converted to lowercase.\n",
    "</p>\n",
    "\n",
    "<p>\n",
    "<b>The CBOW Model.</b> The implementation of the CBOW model, including the functions for deriving its component variables, training it, sampling it, and visualizing it were taken, and in some cases adapted, from Sarkar 2019 and Scrivner 2019.\n",
    "</p>"
   ]
  },
  {
   "cell_type": "markdown",
   "metadata": {},
   "source": [
    "<h3>Import Statements</h3>"
   ]
  },
  {
   "cell_type": "code",
   "execution_count": 1,
   "metadata": {},
   "outputs": [],
   "source": [
    "import keras.backend as K\n",
    "import matplotlib.pylab as plt\n",
    "from keras.preprocessing import text\n",
    "from keras.utils import np_utils\n",
    "from keras.preprocessing import sequence\n",
    "from keras.models import Sequential\n",
    "from keras.layers import Dense, Embedding, Lambda\n",
    "from nltk.corpus import inaugural, stopwords\n",
    "from nltk.tokenize import sent_tokenize, word_tokenize\n",
    "from sklearn.metrics.pairwise import euclidean_distances\n",
    "from sklearn.manifold import TSNE\n",
    "import spacy, numpy, pandas, os"
   ]
  },
  {
   "cell_type": "markdown",
   "metadata": {},
   "source": [
    "<h3>Retrieving Text</h3>"
   ]
  },
  {
   "cell_type": "code",
   "execution_count": 2,
   "metadata": {},
   "outputs": [],
   "source": [
    "names = inaugural.fileids()\n",
    "speech = inaugural.raw(fileids = names[36]) # FDR 1933"
   ]
  },
  {
   "cell_type": "markdown",
   "metadata": {},
   "source": [
    "<h3>Preprocessing Corpus</h3>"
   ]
  },
  {
   "cell_type": "code",
   "execution_count": 3,
   "metadata": {},
   "outputs": [],
   "source": [
    "def preprocess(text):\n",
    "    \n",
    "    sentences = sent_tokenize(text)\n",
    "    \n",
    "    punctuation = ['.', ',', ';', '!', '?', '--']\n",
    "    sw = stopwords.words('english')\n",
    "    nlp = spacy.load('en_core_web_sm')\n",
    "    \n",
    "    lemmas = []\n",
    "    \n",
    "    for sentence in sentences: # Lemmatize\n",
    "        lemmas.append([word.lemma_ for word in nlp(sentence) if word.lemma_ != '-PRON-'])\n",
    "        \n",
    "    tokens = []\n",
    "    \n",
    "    for sentence in lemmas: # Lowercase; remove stopwords and punctuation\n",
    "        tokens.append([word.lower() for word in sentence\n",
    "                       if word.lower() not in punctuation\n",
    "                       and word.lower() not in sw\n",
    "                       and word != \"\\'s\"])\n",
    "    \n",
    "    corpus = []\n",
    "    \n",
    "    for sentence in tokens:\n",
    "        tmp = ' '.join(sentence)\n",
    "        corpus.append(tmp)\n",
    "    \n",
    "    return corpus"
   ]
  },
  {
   "cell_type": "code",
   "execution_count": 4,
   "metadata": {},
   "outputs": [],
   "source": [
    "corpus = preprocess(speech)"
   ]
  },
  {
   "cell_type": "markdown",
   "metadata": {},
   "source": [
    "<h3>Building Corpus Vocabulary</h3>"
   ]
  },
  {
   "cell_type": "code",
   "execution_count": 5,
   "metadata": {},
   "outputs": [],
   "source": [
    "def word2id(corpus):\n",
    "    \n",
    "    tokenizer = text.Tokenizer()\n",
    "    tokenizer.fit_on_texts(corpus)\n",
    "    \n",
    "    return tokenizer.word_index"
   ]
  },
  {
   "cell_type": "code",
   "execution_count": 6,
   "metadata": {},
   "outputs": [],
   "source": [
    "word2id = word2id(corpus)"
   ]
  },
  {
   "cell_type": "code",
   "execution_count": 7,
   "metadata": {},
   "outputs": [],
   "source": [
    "word2id['PAD'] = 0"
   ]
  },
  {
   "cell_type": "code",
   "execution_count": 8,
   "metadata": {},
   "outputs": [],
   "source": [
    "def id2word(word2id):\n",
    "\n",
    "    return {v:k for k, v in word2id.items()}"
   ]
  },
  {
   "cell_type": "code",
   "execution_count": 9,
   "metadata": {},
   "outputs": [],
   "source": [
    "id2word = id2word(word2id)"
   ]
  },
  {
   "cell_type": "code",
   "execution_count": 10,
   "metadata": {},
   "outputs": [],
   "source": [
    "def wids(corpus, word2id):\n",
    "    \n",
    "    return [[word2id[word] for word in text.text_to_word_sequence(token)] for token in corpus]"
   ]
  },
  {
   "cell_type": "code",
   "execution_count": 11,
   "metadata": {},
   "outputs": [],
   "source": [
    "wids = wids(corpus, word2id)"
   ]
  },
  {
   "cell_type": "markdown",
   "metadata": {},
   "source": [
    "<h3>Generating Context Windows</h3>"
   ]
  },
  {
   "cell_type": "code",
   "execution_count": 12,
   "metadata": {},
   "outputs": [],
   "source": [
    "def generate_context_word_pairs(corpus, window_size, vocab_size):\n",
    "    \n",
    "    context_length = window_size*2\n",
    "    \n",
    "    for words in corpus:\n",
    "        \n",
    "        sentence_length = len(words)\n",
    "        \n",
    "        for index, word in enumerate(words):\n",
    "            context_words = []\n",
    "            label_word   = []            \n",
    "            start = index - window_size\n",
    "            end = index + window_size + 1\n",
    "            \n",
    "            context_words.append([words[i] \n",
    "                                 for i in range(start, end) \n",
    "                                 if 0 <= i < sentence_length \n",
    "                                 and i != index])\n",
    "            label_word.append(word)\n",
    "\n",
    "            x = sequence.pad_sequences(context_words, maxlen=context_length)\n",
    "            y = np_utils.to_categorical(label_word, vocab_size)\n",
    "            yield (x, y)"
   ]
  },
  {
   "cell_type": "code",
   "execution_count": 13,
   "metadata": {},
   "outputs": [],
   "source": [
    "def get_samples(n, window_size = 2, vocab_size = len(word2id)):\n",
    "    \n",
    "    samples = []\n",
    "    \n",
    "    i = 0\n",
    "    for x, y in generate_context_word_pairs(corpus=wids, window_size = window_size, vocab_size = vocab_size):\n",
    "        if 0 not in x[0]:\n",
    "            \n",
    "            samples.append(([id2word[w] for w in x[0]], id2word[numpy.argwhere(y[0])[0][0]]))\n",
    "    \n",
    "            if i == n-1:\n",
    "                break\n",
    "            i += 1\n",
    "            \n",
    "    return samples"
   ]
  },
  {
   "cell_type": "code",
   "execution_count": 14,
   "metadata": {},
   "outputs": [],
   "source": [
    "def print_samples(n):\n",
    "\n",
    "    samples = []\n",
    "\n",
    "    for i in get_samples(n):\n",
    "        context = ', '.join(i[0])\n",
    "        target = i[1]\n",
    "        samples.append((context, target))\n",
    "\n",
    "    table = pandas.DataFrame(samples, columns = ['Context', 'Target'])\n",
    "    output = table.style.set_properties(**{'text-align': 'left'})\n",
    "    output = output.set_table_styles([dict(selector = 'th', props=[('text-align', 'left')])])\n",
    "  \n",
    "    display(output)"
   ]
  },
  {
   "cell_type": "code",
   "execution_count": 15,
   "metadata": {},
   "outputs": [
    {
     "data": {
      "text/html": [
       "<style  type=\"text/css\" >\n",
       "    #T_a98e3_ th {\n",
       "          text-align: left;\n",
       "    }#T_a98e3_row0_col0,#T_a98e3_row0_col1,#T_a98e3_row1_col0,#T_a98e3_row1_col1,#T_a98e3_row2_col0,#T_a98e3_row2_col1,#T_a98e3_row3_col0,#T_a98e3_row3_col1,#T_a98e3_row4_col0,#T_a98e3_row4_col1{\n",
       "            text-align:  left;\n",
       "        }</style><table id=\"T_a98e3_\" ><thead>    <tr>        <th class=\"blank level0\" ></th>        <th class=\"col_heading level0 col0\" >Context</th>        <th class=\"col_heading level0 col1\" >Target</th>    </tr></thead><tbody>\n",
       "                <tr>\n",
       "                        <th id=\"T_a98e3_level0_row0\" class=\"row_heading level0 row0\" >0</th>\n",
       "                        <td id=\"T_a98e3_row0_col0\" class=\"data row0 col0\" >certain, fellow, expect, induction</td>\n",
       "                        <td id=\"T_a98e3_row0_col1\" class=\"data row0 col1\" >americans</td>\n",
       "            </tr>\n",
       "            <tr>\n",
       "                        <th id=\"T_a98e3_level0_row1\" class=\"row_heading level0 row1\" >1</th>\n",
       "                        <td id=\"T_a98e3_row1_col0\" class=\"data row1 col0\" >fellow, americans, induction, presidency</td>\n",
       "                        <td id=\"T_a98e3_row1_col1\" class=\"data row1 col1\" >expect</td>\n",
       "            </tr>\n",
       "            <tr>\n",
       "                        <th id=\"T_a98e3_level0_row2\" class=\"row_heading level0 row2\" >2</th>\n",
       "                        <td id=\"T_a98e3_row2_col0\" class=\"data row2 col0\" >americans, expect, presidency, address</td>\n",
       "                        <td id=\"T_a98e3_row2_col1\" class=\"data row2 col1\" >induction</td>\n",
       "            </tr>\n",
       "            <tr>\n",
       "                        <th id=\"T_a98e3_level0_row3\" class=\"row_heading level0 row3\" >3</th>\n",
       "                        <td id=\"T_a98e3_row3_col0\" class=\"data row3 col0\" >expect, induction, address, candor</td>\n",
       "                        <td id=\"T_a98e3_row3_col1\" class=\"data row3 col1\" >presidency</td>\n",
       "            </tr>\n",
       "            <tr>\n",
       "                        <th id=\"T_a98e3_level0_row4\" class=\"row_heading level0 row4\" >4</th>\n",
       "                        <td id=\"T_a98e3_row4_col0\" class=\"data row4 col0\" >induction, presidency, candor, decision</td>\n",
       "                        <td id=\"T_a98e3_row4_col1\" class=\"data row4 col1\" >address</td>\n",
       "            </tr>\n",
       "    </tbody></table>"
      ],
      "text/plain": [
       "<pandas.io.formats.style.Styler at 0x2c1b5696340>"
      ]
     },
     "metadata": {},
     "output_type": "display_data"
    }
   ],
   "source": [
    "print_samples(5)"
   ]
  },
  {
   "cell_type": "markdown",
   "metadata": {},
   "source": [
    "<h3>Building CBOW Model</h3>"
   ]
  },
  {
   "cell_type": "code",
   "execution_count": 16,
   "metadata": {},
   "outputs": [],
   "source": [
    "def build_CBOW(window_size = 2, vocab_size = len(word2id), embed_size = 100):\n",
    "    \n",
    "    cbow = Sequential()\n",
    "    \n",
    "    cbow.add(\n",
    "        Embedding(\n",
    "        input_dim = vocab_size, \n",
    "        output_dim = embed_size, \n",
    "        input_length = window_size * 2\n",
    "        )\n",
    "    )\n",
    "    \n",
    "    cbow.add(\n",
    "        Lambda(\n",
    "            lambda x: K.mean(x, axis=1), \n",
    "            output_shape=(embed_size,)\n",
    "        )\n",
    "    )\n",
    "    \n",
    "    cbow.add(\n",
    "        Dense(\n",
    "            vocab_size, \n",
    "            activation='softmax'\n",
    "        )\n",
    "    )\n",
    "    \n",
    "    cbow.compile(\n",
    "        loss='categorical_crossentropy', \n",
    "        optimizer='rmsprop'\n",
    "    )\n",
    "    \n",
    "    return cbow"
   ]
  },
  {
   "cell_type": "code",
   "execution_count": 17,
   "metadata": {},
   "outputs": [
    {
     "name": "stdout",
     "output_type": "stream",
     "text": [
      "Model: \"sequential\"\n",
      "_________________________________________________________________\n",
      "Layer (type)                 Output Shape              Param #   \n",
      "=================================================================\n",
      "embedding (Embedding)        (None, 4, 100)            56700     \n",
      "_________________________________________________________________\n",
      "lambda (Lambda)              (None, 100)               0         \n",
      "_________________________________________________________________\n",
      "dense (Dense)                (None, 567)               57267     \n",
      "=================================================================\n",
      "Total params: 113,967\n",
      "Trainable params: 113,967\n",
      "Non-trainable params: 0\n",
      "_________________________________________________________________\n"
     ]
    }
   ],
   "source": [
    "cbow = build_CBOW()\n",
    "cbow.summary()"
   ]
  },
  {
   "cell_type": "markdown",
   "metadata": {},
   "source": [
    "<h3>Training CBOW Model</h3>"
   ]
  },
  {
   "cell_type": "code",
   "execution_count": 18,
   "metadata": {},
   "outputs": [],
   "source": [
    "def train_CBOW(epochs, cbow = cbow, corpus = wids, window_size = 2, vocab_size = len(word2id)):\n",
    "    \n",
    "    train_CBOW = []\n",
    "    \n",
    "    for epoch in range(1, epochs + 1):\n",
    "        loss = 0.\n",
    "        i = 0\n",
    "        for x, y in generate_context_word_pairs(corpus=wids, window_size=window_size, vocab_size=vocab_size):\n",
    "            i += 1\n",
    "            loss += cbow.train_on_batch(x, y)\n",
    "\n",
    "        train_CBOW.append((epoch, loss))\n",
    "    \n",
    "    return train_CBOW"
   ]
  },
  {
   "cell_type": "code",
   "execution_count": 19,
   "metadata": {},
   "outputs": [],
   "source": [
    "train_CBOW = train_CBOW(100)"
   ]
  },
  {
   "cell_type": "code",
   "execution_count": 20,
   "metadata": {},
   "outputs": [
    {
     "name": "stdout",
     "output_type": "stream",
     "text": [
      " Epoch        Loss     \n",
      "    1     5776.512186  \n",
      "    2     5713.540808  \n",
      "    3     5645.282699  \n",
      "    4     5570.075523  \n",
      "    5     5487.286491  \n",
      "...                 ...\n",
      "   96     1891.273389  \n",
      "   97     1879.985086  \n",
      "   98     1868.937237  \n",
      "   99     1858.135015  \n",
      "  100     1847.562225  \n"
     ]
    }
   ],
   "source": [
    "train_table = pandas.DataFrame(train_CBOW, columns = ['Epoch ', 'Loss'])\n",
    "print(\n",
    "    train_table.to_string(\n",
    "        index = False,\n",
    "        justify = 'center',\n",
    "        col_space = (0, 15),\n",
    "        max_rows = 10\n",
    "    )\n",
    ")"
   ]
  },
  {
   "cell_type": "markdown",
   "metadata": {},
   "source": [
    "<h3>Determining Word Embedding Similarity</h3>"
   ]
  },
  {
   "cell_type": "code",
   "execution_count": 21,
   "metadata": {},
   "outputs": [],
   "source": [
    "weights = cbow.get_weights()[0]\n",
    "weights = weights[1:]"
   ]
  },
  {
   "cell_type": "code",
   "execution_count": 22,
   "metadata": {},
   "outputs": [],
   "source": [
    "def similar_words(weights, search_terms):\n",
    "    distance_matrix = euclidean_distances(weights)\n",
    "\n",
    "    similar_words = {search_term: [id2word[idx] for idx in distance_matrix[word2id[search_term]-1].argsort()[1:6]+1] \n",
    "                   for search_term in search_terms}\n",
    "\n",
    "    return similar_words"
   ]
  },
  {
   "cell_type": "code",
   "execution_count": 23,
   "metadata": {},
   "outputs": [],
   "source": [
    "search_terms = ['leadership', 'government', 'constitution', 'emergency', 'economy']\n",
    "similar_words = similar_words(weights, search_terms)"
   ]
  },
  {
   "cell_type": "code",
   "execution_count": 24,
   "metadata": {},
   "outputs": [
    {
     "data": {
      "text/html": [
       "<div>\n",
       "<style scoped>\n",
       "    .dataframe tbody tr th:only-of-type {\n",
       "        vertical-align: middle;\n",
       "    }\n",
       "\n",
       "    .dataframe tbody tr th {\n",
       "        vertical-align: top;\n",
       "    }\n",
       "\n",
       "    .dataframe thead th {\n",
       "        text-align: right;\n",
       "    }\n",
       "</style>\n",
       "<table border=\"1\" class=\"dataframe\">\n",
       "  <thead>\n",
       "    <tr style=\"text-align: right;\">\n",
       "      <th></th>\n",
       "      <th>leadership</th>\n",
       "      <th>government</th>\n",
       "      <th>constitution</th>\n",
       "      <th>emergency</th>\n",
       "      <th>economy</th>\n",
       "    </tr>\n",
       "  </thead>\n",
       "  <tbody>\n",
       "    <tr>\n",
       "      <th>0</th>\n",
       "      <td>convinced</td>\n",
       "      <td>federal</td>\n",
       "      <td>simple</td>\n",
       "      <td>fact</td>\n",
       "      <td>currency</td>\n",
       "    </tr>\n",
       "    <tr>\n",
       "      <th>1</th>\n",
       "      <td>understanding</td>\n",
       "      <td>arrangement</td>\n",
       "      <td>favor</td>\n",
       "      <td>accomplishment</td>\n",
       "      <td>less</td>\n",
       "    </tr>\n",
       "    <tr>\n",
       "      <th>2</th>\n",
       "      <td>advance</td>\n",
       "      <td>fall</td>\n",
       "      <td>less</td>\n",
       "      <td>foe</td>\n",
       "      <td>line</td>\n",
       "    </tr>\n",
       "    <tr>\n",
       "      <th>3</th>\n",
       "      <td>rise</td>\n",
       "      <td>transportation</td>\n",
       "      <td>always</td>\n",
       "      <td>befit</td>\n",
       "      <td>provision</td>\n",
       "    </tr>\n",
       "    <tr>\n",
       "      <th>4</th>\n",
       "      <td>property</td>\n",
       "      <td>communication</td>\n",
       "      <td>line</td>\n",
       "      <td>wait</td>\n",
       "      <td>presently</td>\n",
       "    </tr>\n",
       "  </tbody>\n",
       "</table>\n",
       "</div>"
      ],
      "text/plain": [
       "      leadership      government constitution       emergency    economy\n",
       "0      convinced         federal       simple            fact   currency\n",
       "1  understanding     arrangement        favor  accomplishment       less\n",
       "2        advance            fall         less             foe       line\n",
       "3           rise  transportation       always           befit  provision\n",
       "4       property   communication         line            wait  presently"
      ]
     },
     "metadata": {},
     "output_type": "display_data"
    }
   ],
   "source": [
    "table_similar_words = pandas.DataFrame(similar_words)\n",
    "display(table_similar_words)"
   ]
  },
  {
   "cell_type": "markdown",
   "metadata": {},
   "source": [
    "<h3>Visualizing Word Embedding Distance</h3>"
   ]
  },
  {
   "cell_type": "code",
   "execution_count": 30,
   "metadata": {},
   "outputs": [],
   "source": [
    "def visualize_distance(similar_words = similar_words, word2id = word2id):\n",
    "    \n",
    "    words = sum([[k] + v for k,v in similar_words.items()], [])\n",
    "    words = list(set(words))\n",
    "    words_ids = [word2id[w] for w in words]\n",
    "    word_vectors = numpy.array([weights[idx] for idx in words_ids])\n",
    "    \n",
    "    print(\"Total Words: \", len(words), \"\\tWord Embedding Shapes: \", word_vectors.shape)\n",
    "    \n",
    "    tsne = TSNE(\n",
    "        n_components = 2, \n",
    "        random_state = 0,\n",
    "        n_iter = 10000,\n",
    "        perplexity = 3\n",
    "    )\n",
    "    \n",
    "    numpy.set_printoptions(suppress = True)\n",
    "    \n",
    "    T = tsne.fit_transform(word_vectors)\n",
    "    \n",
    "    labels = words\n",
    "    plt.figure(figsize = (16, 10))\n",
    "    plt.scatter(\n",
    "        T[:, 0], T[:, 1], \n",
    "        c = \"steelblue\",\n",
    "        edgecolors = \"k\",\n",
    "        s = 40\n",
    "    )\n",
    "    \n",
    "    for label, x, y in zip(labels, T[:, 0], T[:, 1]):\n",
    "        plt.annotate(\n",
    "            label,\n",
    "            xy = (x + 1, y + 1),\n",
    "            xytext = (-5, 7),\n",
    "            textcoords = \"offset points\",\n",
    "            fontsize = 12\n",
    "        )"
   ]
  },
  {
   "cell_type": "code",
   "execution_count": 31,
   "metadata": {},
   "outputs": [
    {
     "name": "stdout",
     "output_type": "stream",
     "text": [
      "Total Words:  28 \tWord Embedding Shapes:  (28, 100)\n"
     ]
    },
    {
     "data": {
      "image/png": "[encoded data removed]",
      "text/plain": [
       "<Figure size 1152x720 with 1 Axes>"
      ]
     },
     "metadata": {
      "needs_background": "light"
     },
     "output_type": "display_data"
    }
   ],
   "source": [
    "visualize_distance()"
   ]
  },
  {
   "cell_type": "markdown",
   "metadata": {},
   "source": [
    "<h3>Reference List</h3>\n",
    "<p>\n",
    "Scrivner, Olga. (2019, October 7). <i>Introduction to word vectors - cbow</i> [Video]. Youtube. <br> \n",
    "    &nbsp;&nbsp;&nbsp;&nbsp; https://www.youtube.com/watch?v=ocUshGwOSsQ <br>\n",
    "Sarkar, Dipanjan. 2019. <i>Text Analytics with Python: A Practical Real-World Approach to <br> \n",
    "    &nbsp;&nbsp;&nbsp;&nbsp; Gaining Actionable Insights from Your Data</i>. Apress. https://doi.org/10.1007/978-1-4842-4354-1\n",
    "</p>"
   ]
  }
 ],
 "metadata": {
  "kernelspec": {
   "display_name": "Python 3",
   "language": "python",
   "name": "python3"
  },
  "language_info": {
   "codemirror_mode": {
    "name": "ipython",
    "version": 3
   },
   "file_extension": ".py",
   "mimetype": "text/x-python",
   "name": "python",
   "nbconvert_exporter": "python",
   "pygments_lexer": "ipython3",
   "version": "3.8.5"
  }
 },
 "nbformat": 4,
 "nbformat_minor": 5
}
